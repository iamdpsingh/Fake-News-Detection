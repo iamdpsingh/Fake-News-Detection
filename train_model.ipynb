{
 "cells": [
  {
   "cell_type": "code",
   "execution_count": 1,
   "id": "70ba7621",
   "metadata": {},
   "outputs": [],
   "source": [
    "import pandas as pd\n",
    "import re\n",
    "import string\n",
    "import pickle\n",
    "from sklearn.model_selection import train_test_split, GridSearchCV\n",
    "from sklearn.linear_model import LogisticRegression\n",
    "from sklearn.feature_extraction.text import TfidfVectorizer\n",
    "from sklearn.pipeline import Pipeline\n",
    "from sklearn.metrics import classification_report\n",
    "from utils import clean_text"
   ]
  },
  {
   "cell_type": "code",
   "execution_count": 2,
   "id": "aeed67bf",
   "metadata": {},
   "outputs": [],
   "source": [
    "fake = pd.read_csv(\"dataset/fake.csv\")\n",
    "true = pd.read_csv(\"dataset/true.csv\")"
   ]
  },
  {
   "cell_type": "code",
   "execution_count": 3,
   "id": "96966b43",
   "metadata": {},
   "outputs": [],
   "source": [
    "fake[\"label\"] = 0\n",
    "true[\"label\"] = 1\n",
    "\n",
    "df = pd.concat([fake, true])\n",
    "df = df.sample(frac=1).reset_index(drop=True)\n",
    "df[\"text\"] = df[\"text\"].apply(clean_text)\n",
    "\n",
    "X = df[\"text\"]\n",
    "y = df[\"label\"]"
   ]
  },
  {
   "cell_type": "code",
   "execution_count": 4,
   "id": "2bcf1246",
   "metadata": {},
   "outputs": [],
   "source": [
    "pipeline = Pipeline([\n",
    "    ('tfidf', TfidfVectorizer(stop_words='english', max_df=0.7)),\n",
    "    ('clf', LogisticRegression(solver='liblinear'))\n",
    "])"
   ]
  },
  {
   "cell_type": "code",
   "execution_count": 5,
   "id": "780fc15c",
   "metadata": {},
   "outputs": [
    {
     "name": "stdout",
     "output_type": "stream",
     "text": [
      "Fitting 5 folds for each of 6 candidates, totalling 30 fits\n",
      "Best Parameters: {'clf__C': 10, 'tfidf__ngram_range': (1, 1)}\n",
      "              precision    recall  f1-score   support\n",
      "\n",
      "           0       1.00      1.00      1.00     23481\n",
      "           1       1.00      1.00      1.00     21417\n",
      "\n",
      "    accuracy                           1.00     44898\n",
      "   macro avg       1.00      1.00      1.00     44898\n",
      "weighted avg       1.00      1.00      1.00     44898\n",
      "\n"
     ]
    }
   ],
   "source": [
    "params = {\n",
    "    'clf__C': [0.1, 1, 10],\n",
    "    'tfidf__ngram_range': [(1,1), (1,2)]\n",
    "}\n",
    "\n",
    "grid = GridSearchCV(pipeline, params, cv=5, scoring='accuracy', verbose=1)\n",
    "grid.fit(X, y)\n",
    "\n",
    "print(\"Best Parameters:\", grid.best_params_)\n",
    "print(classification_report(y, grid.predict(X)))"
   ]
  },
  {
   "cell_type": "code",
   "execution_count": 6,
   "id": "b9a88151",
   "metadata": {},
   "outputs": [],
   "source": [
    "with open(\"model/fake_news_model.pkl\", \"wb\") as f:\n",
    "    pickle.dump(grid.best_estimator_, f)\n",
    "\n",
    "with open(\"model/vectorizer.pkl\", \"wb\") as f:\n",
    "    pickle.dump(grid.best_estimator_.named_steps['tfidf'], f)"
   ]
  },
  {
   "cell_type": "markdown",
   "id": "7e98a6e8",
   "metadata": {},
   "source": []
  },
  {
   "cell_type": "code",
   "execution_count": null,
   "id": "660acae3",
   "metadata": {},
   "outputs": [],
   "source": []
  }
 ],
 "metadata": {
  "kernelspec": {
   "display_name": "Python 3",
   "language": "python",
   "name": "python3"
  },
  "language_info": {
   "codemirror_mode": {
    "name": "ipython",
    "version": 3
   },
   "file_extension": ".py",
   "mimetype": "text/x-python",
   "name": "python",
   "nbconvert_exporter": "python",
   "pygments_lexer": "ipython3",
   "version": "3.13.1"
  }
 },
 "nbformat": 4,
 "nbformat_minor": 5
}
